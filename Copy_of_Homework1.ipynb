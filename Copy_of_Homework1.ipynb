{
  "nbformat": 4,
  "nbformat_minor": 0,
  "metadata": {
    "colab": {
      "name": "Copy of Homework1.ipynb",
      "provenance": [],
      "collapsed_sections": [],
      "include_colab_link": true
    },
    "kernelspec": {
      "name": "python3",
      "display_name": "Python 3"
    },
    "language_info": {
      "name": "python"
    }
  },
  "cells": [
    {
      "cell_type": "markdown",
      "metadata": {
        "id": "view-in-github",
        "colab_type": "text"
      },
      "source": [
        "<a href=\"https://colab.research.google.com/github/sadighuseyn/DATA1/blob/main/Copy_of_Homework1.ipynb\" target=\"_parent\"><img src=\"https://colab.research.google.com/assets/colab-badge.svg\" alt=\"Open In Colab\"/></a>"
      ]
    },
    {
      "cell_type": "code",
      "execution_count": null,
      "metadata": {
        "colab": {
          "base_uri": "https://localhost:8080/"
        },
        "id": "jrVeHsm1rpdT",
        "outputId": "bf0767eb-7e44-4e20-de2d-13272b7b8f2e"
      },
      "outputs": [
        {
          "output_type": "stream",
          "name": "stdout",
          "text": [
            "What is your name? Sadig\n",
            "What is your age? 21\n",
            "Your name is Sadig. Your age is 21\n"
          ]
        }
      ],
      "source": [
        "#Q1-Get your name and age as input and print it in the form like\n",
        "#Your name is Hulisi. Your age is 43\n",
        "name= input('What is your name? ')\n",
        "age= input('What is your age? ')\n",
        "print(\"Your name is \"+name+\". Your age is \"+age+\"\")"
      ]
    },
    {
      "cell_type": "code",
      "source": [
        "#Q2-Write a if statement for a given two number is equal or not\n",
        "a=43\n",
        "b=54\n",
        "if(a==b):\n",
        "  print(\"These numbers are equal\")\n",
        "else:\n",
        "  print(\"These numbers are not equal\")\n"
      ],
      "metadata": {
        "id": "7Sfg03_PuVWa",
        "outputId": "af9a62fc-8e79-4578-d106-c9c227e93daf",
        "colab": {
          "base_uri": "https://localhost:8080/"
        }
      },
      "execution_count": null,
      "outputs": [
        {
          "output_type": "stream",
          "name": "stdout",
          "text": [
            "These numbers are not equal\n"
          ]
        }
      ]
    },
    {
      "cell_type": "code",
      "source": [
        "#Q3-Write a if statement for first number is greater (a), equal or less than second number.(b)\n",
        "a=43\n",
        "b=54\n",
        "if(a>b):\n",
        "  print(\"First number is greater than Second number\")\n",
        "if(a==b):\n",
        "  print(\"First number is equal to Second number\")\n",
        "else:\n",
        "  print(\"First number is lesser than Second number\")\n"
      ],
      "metadata": {
        "id": "NtUibZ07u5gs",
        "outputId": "c4277c97-1399-4389-f5a7-ed218fab1448",
        "colab": {
          "base_uri": "https://localhost:8080/"
        }
      },
      "execution_count": null,
      "outputs": [
        {
          "output_type": "stream",
          "name": "stdout",
          "text": [
            "First number is lesser than Second number\n"
          ]
        }
      ]
    },
    {
      "cell_type": "code",
      "source": [
        "#Q4- Using for loop, print 1,2,3,4,5\n",
        "for k in range(1,6):\n",
        "  print(k)"
      ],
      "metadata": {
        "id": "U1UMQv36wNHP",
        "outputId": "60894ba8-d803-4749-f4e1-b1eb8db2cd85",
        "colab": {
          "base_uri": "https://localhost:8080/"
        }
      },
      "execution_count": null,
      "outputs": [
        {
          "output_type": "stream",
          "name": "stdout",
          "text": [
            "1\n",
            "2\n",
            "3\n",
            "4\n",
            "5\n"
          ]
        }
      ]
    },
    {
      "cell_type": "code",
      "source": [
        "#Q5-Using while loop, print 5,4,3,2,1\n",
        "for k in range(5,0,-1):\n",
        "  print(k)\n"
      ],
      "metadata": {
        "id": "bh5Lga7XxGY8",
        "outputId": "dea26e9f-a18d-4855-9f7a-36b909a51cc4",
        "colab": {
          "base_uri": "https://localhost:8080/"
        }
      },
      "execution_count": null,
      "outputs": [
        {
          "output_type": "stream",
          "name": "stdout",
          "text": [
            "5\n",
            "4\n",
            "3\n",
            "2\n",
            "1\n"
          ]
        }
      ]
    },
    {
      "cell_type": "code",
      "source": [
        "#Q6- Using for loop, print 10,6,4,2,0\n",
        "#Hint Print if number is not equal to 8.\n",
        "for k in range(10,-1,-2):\n",
        "  if (k)!=8:\n",
        "    print(k)"
      ],
      "metadata": {
        "id": "cXTTDS49xSoi",
        "outputId": "86c7dce7-45ef-47e3-e2de-d1b5755de459",
        "colab": {
          "base_uri": "https://localhost:8080/"
        }
      },
      "execution_count": null,
      "outputs": [
        {
          "output_type": "stream",
          "name": "stdout",
          "text": [
            "10\n",
            "6\n",
            "4\n",
            "2\n",
            "0\n"
          ]
        }
      ]
    },
    {
      "cell_type": "code",
      "source": [
        "#Q7-Write a method to calculate age for a given date of birth year.\n",
        "#Use this method on orer to calculate age of person if date of birth is 1944\n",
        "# if age is the name of function, print(age(1944))\n",
        "def age(year_of_birth):\n",
        "    return(2022 - year_of_birth)\n",
        "\n",
        "print(age(1944))\n",
        "\n",
        "\n",
        "\n"
      ],
      "metadata": {
        "id": "geUjb-vuyYbF",
        "outputId": "126ce6b4-a3e9-4c24-9343-342e011c4027",
        "colab": {
          "base_uri": "https://localhost:8080/"
        }
      },
      "execution_count": null,
      "outputs": [
        {
          "output_type": "stream",
          "name": "stdout",
          "text": [
            "78\n"
          ]
        }
      ]
    },
    {
      "cell_type": "code",
      "source": [
        "#Q8-Write a class named arithmetic with method for calculating addition, substraction, multiplication and division of two numbers.\n",
        "class arithmetic:\n",
        "  def addition(x,y):\n",
        "    print(x+y)\n",
        "  \n",
        "  def substraction(x,y):\n",
        "    print(x-y)\n",
        "\n",
        "  def multiplication(x,y):\n",
        "    print(x*y)\n",
        "  \n",
        "  def division(x,y):\n",
        "    print(x/y)\n",
        "\n",
        "  \n",
        "arithmetic.addition(3,4) \n",
        "arithmetic.substraction(3,4)\n",
        "arithmetic.multiplication(3,4)\n",
        "arithmetic.division(3,4)"
      ],
      "metadata": {
        "id": "YcyFzE3fzC7_",
        "outputId": "5a9353b3-a37b-4067-dca1-af32bd343aef",
        "colab": {
          "base_uri": "https://localhost:8080/"
        }
      },
      "execution_count": null,
      "outputs": [
        {
          "output_type": "stream",
          "name": "stdout",
          "text": [
            "7\n",
            "-1\n",
            "12\n",
            "0.75\n"
          ]
        }
      ]
    },
    {
      "cell_type": "code",
      "source": [
        "#Q9- write a for loop or method  to calculate summation of first n numbers\n",
        "#i.e if n=3, it will print or return 6 (1+2+3)\n",
        "\n",
        "n= int(input(\"n=\"))\n",
        "sum= 0\n",
        "for k in range(1, n+1):\n",
        "    sum = sum + k\n",
        "print(\"Summation of first\", n, \"number is:\",sum)\n"
      ],
      "metadata": {
        "id": "AUJWr5YqzadI",
        "outputId": "32e72804-781e-4d05-bb6f-8274594c8936",
        "colab": {
          "base_uri": "https://localhost:8080/"
        }
      },
      "execution_count": null,
      "outputs": [
        {
          "output_type": "stream",
          "name": "stdout",
          "text": [
            "n=3\n",
            "Summation of first 3 number is: 6\n"
          ]
        }
      ]
    },
    {
      "cell_type": "code",
      "source": [
        "#Q10-Generate 10 numbers between 0 and 1 and add into list. Print first three elements of that list. \n",
        "\n",
        "import random\n",
        "list = []\n",
        "for i in range(0,10):\n",
        "  n = random.uniform(0,1)\n",
        "  list.append(n)\n",
        "list[:3]"
      ],
      "metadata": {
        "id": "hmtvJdCL02qx",
        "outputId": "63f1393d-ecfe-47dd-94aa-fd2f95b31ab1",
        "colab": {
          "base_uri": "https://localhost:8080/"
        }
      },
      "execution_count": null,
      "outputs": [
        {
          "output_type": "execute_result",
          "data": {
            "text/plain": [
              "[0.3595845004491828, 0.42780266971312886, 0.5438716305080622]"
            ]
          },
          "metadata": {},
          "execution_count": 155
        }
      ]
    },
    {
      "cell_type": "code",
      "source": [
        "#Q11-For a given number n, print numbers divisible by 3 up to that number(n included)\n",
        "#Example: if n=15, print 3,6,9,12,15\n",
        "#Hint you can use modulus statement (if (i%3==0))\n",
        "\n",
        "n=int(input(\"n=\"))\n",
        "for k in range(1,n+1):\n",
        "  if k%3==0:\n",
        "    print(k)\n"
      ],
      "metadata": {
        "id": "5O6Y2CujcAAs",
        "outputId": "d5c4a3be-90a0-4314-bdb4-617579dbd90f",
        "colab": {
          "base_uri": "https://localhost:8080/"
        }
      },
      "execution_count": null,
      "outputs": [
        {
          "output_type": "stream",
          "name": "stdout",
          "text": [
            "n=18\n",
            "3\n",
            "6\n",
            "9\n",
            "12\n",
            "15\n",
            "18\n"
          ]
        }
      ]
    }
  ]
}